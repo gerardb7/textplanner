{
 "cells": [
  {
   "cell_type": "code",
   "execution_count": 8,
   "metadata": {
    "scrolled": true
   },
   "outputs": [
    {
     "data": {
      "application/vnd.jupyter.widget-view+json": {
       "model_id": "41d5af82-cb4b-4044-9c7d-c109f8d9be15",
       "version_major": 2,
       "version_minor": 0
      },
      "method": "display_data"
     },
     "metadata": {},
     "output_type": "display_data"
    }
   ],
   "source": [
    "%classpath add jar /home/gerard/ownCloud/repositories/textplanning/common/target/common-tools.jar "
   ]
  },
  {
   "cell_type": "code",
   "execution_count": 13,
   "metadata": {},
   "outputs": [
    {
     "ename": "cannot find symbol",
     "evalue": "cannot find symbol",
     "output_type": "error",
     "traceback": [
      "\u001b[1;31mcannot find symbol\u001b[0;0m",
      "\u001b[1;31m  symbol:   class Path\u001b[0;0m",
      "\u001b[0;31m  location: class com.twosigma.beaker.javash.bkrb67f94b3.BeakerWrapperClass1261714175Iddbbda192c1b04c43b1cdcf2744a60a43\u001b[0;0m",
      "\u001b[0;31m Path xml = Paths.get(\"/home/gerard\u001b[0;0m",
      "\u001b[0;31m ^   ^                               \u001b[0;0m"
     ]
    }
   ],
   "source": [
    "import edu.upf.taln.textplanning.tools.SemEvalEvaluation;\n",
    "import java.nio.file.Path;\n",
    "import java.nio.file.Paths;\n",
    "\n",
    "Path xml = Paths.get(\"/home/gerard/data/SemEval-2015_Task_13/test/data/semeval-2015-task-13-en.xml\");\n",
    "//new SemEvalEvaluation();\n",
    "//SemEvalEvaluation.parse(Paths.get(\"/home/gerard/data/SemEval-2015_Task_13/test/data/semeval-2015-task-13-en.xml\"));"
   ]
  },
  {
   "cell_type": "code",
   "execution_count": null,
   "metadata": {},
   "outputs": [],
   "source": []
  }
 ],
 "metadata": {
  "kernelspec": {
   "display_name": "Java",
   "language": "java",
   "name": "java"
  },
  "language_info": {
   "codemirror_mode": "text/x-java",
   "file_extension": ".java",
   "mimetype": "",
   "name": "Java",
   "nbconverter_exporter": "",
   "version": "11.0.1"
  },
  "toc": {
   "base_numbering": 1,
   "nav_menu": {},
   "number_sections": false,
   "sideBar": false,
   "skip_h1_title": false,
   "title_cell": "Table of Contents",
   "title_sidebar": "Contents",
   "toc_cell": false,
   "toc_position": {},
   "toc_section_display": false,
   "toc_window_display": false
  }
 },
 "nbformat": 4,
 "nbformat_minor": 2
}
